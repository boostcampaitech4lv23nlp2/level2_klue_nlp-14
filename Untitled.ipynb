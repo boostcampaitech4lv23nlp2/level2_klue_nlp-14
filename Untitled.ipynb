{
 "cells": [
  {
   "cell_type": "code",
   "execution_count": 1,
   "id": "f4e0d55d-3fd0-43cb-9959-09bf2d287022",
   "metadata": {},
   "outputs": [],
   "source": [
    "sentence = \"〈Something〉는 조지 해리슨이 쓰고 비틀즈가 1969년 앨범 《Abbey Road》에 담은 노래다.\""
   ]
  },
  {
   "cell_type": "code",
   "execution_count": 2,
   "id": "6fc7bd2b-059f-4cff-8045-a4662461c65a",
   "metadata": {},
   "outputs": [],
   "source": [
    "sub = \"비틀즈\"\n",
    "obj = \"조지 해리슨\""
   ]
  },
  {
   "cell_type": "code",
   "execution_count": 3,
   "id": "4eebfbb4-2855-4dc6-86b7-7dd18a1d1ede",
   "metadata": {},
   "outputs": [
    {
     "data": {
      "text/plain": [
       "24"
      ]
     },
     "execution_count": 3,
     "metadata": {},
     "output_type": "execute_result"
    }
   ],
   "source": [
    "sentence.find(sub)"
   ]
  },
  {
   "cell_type": "code",
   "execution_count": 4,
   "id": "264185ae-f86f-441e-aa91-735ad1fe9ebc",
   "metadata": {},
   "outputs": [
    {
     "data": {
      "text/plain": [
       "13"
      ]
     },
     "execution_count": 4,
     "metadata": {},
     "output_type": "execute_result"
    }
   ],
   "source": [
    "sentence.find(obj)"
   ]
  },
  {
   "cell_type": "code",
   "execution_count": 6,
   "id": "c52d9004-8f95-4338-b1cb-4d545537d842",
   "metadata": {},
   "outputs": [],
   "source": [
    "sentence = sentence.replace(sub, \" @ \"+sub+\" @ \")\n",
    "sentence = sentence.replace(obj, \" ^ \"+obj+\" ^ \")"
   ]
  },
  {
   "cell_type": "code",
   "execution_count": 7,
   "id": "d32600dd-ead7-4ff4-b7f2-223db7f52475",
   "metadata": {},
   "outputs": [
    {
     "data": {
      "text/plain": [
       "'〈Something〉는  # 조지 해리슨 # 이 쓰고  @ 비틀즈 @ 가 1969년 앨범 《Abbey Road》에 담은 노래다.'"
      ]
     },
     "execution_count": 7,
     "metadata": {},
     "output_type": "execute_result"
    }
   ],
   "source": [
    "sentence"
   ]
  },
  {
   "cell_type": "code",
   "execution_count": 8,
   "id": "2e0c272a-eedf-4bf1-96f3-a2d998836bcc",
   "metadata": {},
   "outputs": [],
   "source": [
    "import torch"
   ]
  },
  {
   "cell_type": "code",
   "execution_count": 30,
   "id": "430dfda8-a7d5-40c5-bdb4-cf9eb05972ee",
   "metadata": {},
   "outputs": [],
   "source": [
    "t = torch.tensor([1, 2, 3, 3])"
   ]
  },
  {
   "cell_type": "code",
   "execution_count": 31,
   "id": "b5f1f6f2-5d4c-4c47-b604-304703f04ffd",
   "metadata": {},
   "outputs": [
    {
     "data": {
      "text/plain": [
       "2"
      ]
     },
     "execution_count": 31,
     "metadata": {},
     "output_type": "execute_result"
    }
   ],
   "source": [
    "t1 = t.tolist()\n",
    "t1.index(3)"
   ]
  },
  {
   "cell_type": "code",
   "execution_count": 32,
   "id": "d4cef7d7-8dcd-4bb6-a6b6-e35ab343fbc9",
   "metadata": {},
   "outputs": [
    {
     "data": {
      "text/plain": [
       "2"
      ]
     },
     "execution_count": 32,
     "metadata": {},
     "output_type": "execute_result"
    }
   ],
   "source": [
    "t1.index(3)"
   ]
  },
  {
   "cell_type": "code",
   "execution_count": 34,
   "id": "52d107b9-921d-4fbf-aca3-489bf5b4924e",
   "metadata": {},
   "outputs": [
    {
     "data": {
      "text/plain": [
       "[2, 3]"
      ]
     },
     "execution_count": 34,
     "metadata": {},
     "output_type": "execute_result"
    }
   ],
   "source": [
    "[i for i,e in enumerate(t1) if e == 3]"
   ]
  },
  {
   "cell_type": "code",
   "execution_count": null,
   "id": "603b589b-a1c7-45e7-8307-e90577d82963",
   "metadata": {},
   "outputs": [],
   "source": [
    "[i for i, e in enumerate([1, 2, 1]) if e == 1]"
   ]
  },
  {
   "cell_type": "code",
   "execution_count": 35,
   "id": "6b7390d4-762c-4156-bb5f-be776c80b6bc",
   "metadata": {},
   "outputs": [],
   "source": [
    "import transformers"
   ]
  },
  {
   "cell_type": "code",
   "execution_count": 36,
   "id": "22e93ddd-3fa5-474f-b4f0-68d89982c4ac",
   "metadata": {},
   "outputs": [],
   "source": [
    "from transformers import AutoTokenizer"
   ]
  },
  {
   "cell_type": "code",
   "execution_count": 37,
   "id": "1bcc9668-7945-4d0e-9186-530bf7bf0f93",
   "metadata": {},
   "outputs": [],
   "source": [
    "tokenizer = AutoTokenizer.from_pretrained(\"klue/bert-base\")"
   ]
  },
  {
   "cell_type": "code",
   "execution_count": 47,
   "id": "de08dc97-3491-4180-8b16-1064eeec2167",
   "metadata": {},
   "outputs": [
    {
     "data": {
      "text/plain": [
       "36"
      ]
     },
     "execution_count": 47,
     "metadata": {},
     "output_type": "execute_result"
    }
   ],
   "source": [
    "int(tokenizer.encode(\"@\", add_special_tokens=False, return_tensors = \"pt\"))"
   ]
  },
  {
   "cell_type": "code",
   "execution_count": 55,
   "id": "cdd0bff8-c43e-4fe4-84dc-f1651d2697a8",
   "metadata": {},
   "outputs": [],
   "source": [
    "sentence = \"스포츠계에서도 막강한 영향력을 펼치고 있어 2008년 9월 만수르 빈 자이드 알나하얀 소유의 에 맨치스터 시티 FC의 인수를 제안했고 인수 완료 후 잉글랜드 프리미어리그의 맨체스터 시티 FC의 구단주가 되었다.\""
   ]
  },
  {
   "cell_type": "code",
   "execution_count": 86,
   "id": "553eb406-f8b1-480f-bff1-889e2285a638",
   "metadata": {},
   "outputs": [],
   "source": [
    "sentence = \"K리그2에서 성적 1위를 달리고 있는 광주FC는 지난 26일 한국프로축구연맹으로부터 관중 유치 성과와 마케팅 성과를 인정받아 ‘풀 스타디움상’과 ‘플러스 스타디움상’을 수상했다.\""
   ]
  },
  {
   "cell_type": "code",
   "execution_count": 87,
   "id": "ddf2df63-c61b-4169-9731-1f96741529b6",
   "metadata": {},
   "outputs": [],
   "source": [
    "test_dict = eval(\"{'word': '광주FC', 'start_idx': 21, 'end_idx': 24, 'type': 'ORG'}\")\n",
    "test2_dict = eval(\"{'word': '한국프로축구연맹', 'start_idx': 34, 'end_idx': 41, 'type': 'ORG'}\")"
   ]
  },
  {
   "cell_type": "code",
   "execution_count": 88,
   "id": "ef2ec7cb-b3c3-4ff9-acea-f97f89f771a9",
   "metadata": {},
   "outputs": [],
   "source": [
    "ss = test_dict['start_idx']\n",
    "se = test_dict['end_idx']\n",
    "os = test2_dict['start_idx']\n",
    "oe = test2_dict['end_idx']"
   ]
  },
  {
   "cell_type": "code",
   "execution_count": 89,
   "id": "de2a0e6f-fd79-40fc-844e-053cbd5d5e2f",
   "metadata": {},
   "outputs": [
    {
     "name": "stdout",
     "output_type": "stream",
     "text": [
      "K리그2에서 성적 1위를 달리고 있는  @ 광주FC @ 는 지난 26일  ^ 한국프로축구연맹 ^ 는 지난 26일 한국프로축구연맹으로부터 관중 유치 성과와 마케팅 성과를 인정받아 ‘풀 스타디움상’과 ‘플러스 스타디움상’을 수상했다.\n"
     ]
    }
   ],
   "source": [
    "if os<ss:\n",
    "    print(sentence[:os]+\" ^ \" + sentence[os:oe+1] + \" ^ \" + sentence[oe+1:ss] + \" @ \" + sentence[ss:se+1] + \" @ \" + sentence[se+1:])\n",
    "else:\n",
    "    print(sentence[:ss]+\" @ \" + sentence[ss:se+1] + \" @ \" + sentence[se+1:os] + \" ^ \" + sentence[os:oe+1] + \" ^ \" + sentence[se+1:])"
   ]
  },
  {
   "cell_type": "code",
   "execution_count": 82,
   "id": "db8426a2-1553-479a-b8b2-e3ade58f86a4",
   "metadata": {},
   "outputs": [
    {
     "data": {
      "text/plain": [
       "'〈Something〉는  ^ 조지 해리슨 ^ 이 쓰고  @ 비틀즈 @ 가 1969년 앨범 《Abbey Road》에 담은 노래다.'"
      ]
     },
     "execution_count": 82,
     "metadata": {},
     "output_type": "execute_result"
    }
   ],
   "source": [
    "sentence[:os]+\" ^ \" + sentence[os:oe+1] + \" ^ \" + sentence[oe+1:ss] + \" @ \" + sentence[ss:se+1] + \" @ \" + sentence[se+1:]"
   ]
  },
  {
   "cell_type": "code",
   "execution_count": 83,
   "id": "6e4b5520-9cb7-45d1-82dd-2be524b88914",
   "metadata": {},
   "outputs": [
    {
     "data": {
      "text/plain": [
       "'3'"
      ]
     },
     "execution_count": 83,
     "metadata": {},
     "output_type": "execute_result"
    }
   ],
   "source": [
    "test = '123'\n",
    "test[2:]"
   ]
  },
  {
   "cell_type": "code",
   "execution_count": null,
   "id": "14aa7824-f761-418d-b76e-a126671d2b89",
   "metadata": {},
   "outputs": [],
   "source": []
  }
 ],
 "metadata": {
  "kernelspec": {
   "display_name": "Python 3 (ipykernel)",
   "language": "python",
   "name": "python3"
  },
  "language_info": {
   "codemirror_mode": {
    "name": "ipython",
    "version": 3
   },
   "file_extension": ".py",
   "mimetype": "text/x-python",
   "name": "python",
   "nbconvert_exporter": "python",
   "pygments_lexer": "ipython3",
   "version": "3.8.5"
  }
 },
 "nbformat": 4,
 "nbformat_minor": 5
}
