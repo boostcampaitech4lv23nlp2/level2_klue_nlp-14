{
 "cells": [
  {
   "cell_type": "code",
   "execution_count": null,
   "id": "05355ec3-74db-463e-a2ab-2c7d96973cf0",
   "metadata": {},
   "outputs": [],
   "source": [
    "#주어진 데이터셋에서 SUB와 OBJ에 따른 조합 결과를 확인하기 위한 코드"
   ]
  }
 ],
 "metadata": {
  "kernelspec": {
   "display_name": "Python 3 (ipykernel)",
   "language": "python",
   "name": "python3"
  },
  "language_info": {
   "codemirror_mode": {
    "name": "ipython",
    "version": 3
   },
   "file_extension": ".py",
   "mimetype": "text/x-python",
   "name": "python",
   "nbconvert_exporter": "python",
   "pygments_lexer": "ipython3",
   "version": "3.8.5"
  }
 },
 "nbformat": 4,
 "nbformat_minor": 5
}
