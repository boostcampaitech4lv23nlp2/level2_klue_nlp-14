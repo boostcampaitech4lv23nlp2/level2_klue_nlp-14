{
 "cells": [
  {
   "cell_type": "code",
   "execution_count": 2,
   "id": "05355ec3-74db-463e-a2ab-2c7d96973cf0",
   "metadata": {},
   "outputs": [],
   "source": [
    "#주어진 데이터셋에서 SUB와 OBJ에 따른 조합 결과를 확인하기 위한 코드\n",
    "\n",
    "#관련된 라이브러리 임포트하기\n",
    "import pandas as pd\n",
    "\n",
    "#훈련 데이터셋을 분석하고자 하니 훈련 데이터셋을 불러오기\n",
    "train_data = pd.read_csv(\"../../dataset/train/train.csv\") #추후 절대경로로 변경하거나 폴더 안으로 데이터셋을 옮겨놓을 예정"
   ]
  },
  {
   "cell_type": "code",
   "execution_count": 3,
   "id": "ff733a04-bcdd-458b-b2a5-2578842ed362",
   "metadata": {},
   "outputs": [
    {
     "name": "stdout",
     "output_type": "stream",
     "text": [
      "<class 'pandas.core.frame.DataFrame'>\n",
      "RangeIndex: 32470 entries, 0 to 32469\n",
      "Data columns (total 6 columns):\n",
      " #   Column          Non-Null Count  Dtype \n",
      "---  ------          --------------  ----- \n",
      " 0   id              32470 non-null  int64 \n",
      " 1   sentence        32470 non-null  object\n",
      " 2   subject_entity  32470 non-null  object\n",
      " 3   object_entity   32470 non-null  object\n",
      " 4   label           32470 non-null  object\n",
      " 5   source          32470 non-null  object\n",
      "dtypes: int64(1), object(5)\n",
      "memory usage: 1.5+ MB\n"
     ]
    }
   ],
   "source": [
    "train_data.info()"
   ]
  },
  {
   "cell_type": "code",
   "execution_count": null,
   "id": "6e76caa3-aae5-4068-b85a-affcca879a1c",
   "metadata": {},
   "outputs": [],
   "source": []
  }
 ],
 "metadata": {
  "kernelspec": {
   "display_name": "Python 3 (ipykernel)",
   "language": "python",
   "name": "python3"
  },
  "language_info": {
   "codemirror_mode": {
    "name": "ipython",
    "version": 3
   },
   "file_extension": ".py",
   "mimetype": "text/x-python",
   "name": "python",
   "nbconvert_exporter": "python",
   "pygments_lexer": "ipython3",
   "version": "3.8.5"
  }
 },
 "nbformat": 4,
 "nbformat_minor": 5
}
