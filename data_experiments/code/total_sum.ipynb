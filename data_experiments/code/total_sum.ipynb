{
 "cells": [
  {
   "cell_type": "code",
   "execution_count": 2,
   "id": "94d95627-ac96-427b-91e9-966b2b41b64d",
   "metadata": {},
   "outputs": [],
   "source": [
    "#code for RECENT Ensable\n",
    "\n",
    "import pandas as pd"
   ]
  },
  {
   "cell_type": "code",
   "execution_count": null,
   "id": "9e5a6e8d-865f-4ea4-ad9c-fa02c6afb06f",
   "metadata": {},
   "outputs": [],
   "source": [
    "base = []\n",
    "\n",
    "\"\"\"\n",
    "so_combine = \"none\"\n",
    "base.append(pd.read_csv(f\"../../prediction/{so_combine}.csv\")\n",
    "\"\"\"\n",
    "\n",
    "subject_list = [\"PER\", \"ORG\"]\n",
    "object_list = [\"DAT\", \"LOC\", \"NOH\", \"ORG\", \"PER\", \"POH\"]\n",
    "for i in subject_list:\n",
    "    for j in object_list:\n",
    "        so_combine = f\"{i}_{j}\"\n",
    "        base.append(pd.read_csv(f\"../../prediction/{so_combine}.csv\"))\n",
    "                    \n",
    "\n",
    "total_list = pd.concat(base)\n",
    "total_list[\"id\"].sort_values()\n",
    "\n",
    "total_list.sort_values(by = [\"id\"])"
   ]
  }
 ],
 "metadata": {
  "kernelspec": {
   "display_name": "Python 3 (ipykernel)",
   "language": "python",
   "name": "python3"
  },
  "language_info": {
   "codemirror_mode": {
    "name": "ipython",
    "version": 3
   },
   "file_extension": ".py",
   "mimetype": "text/x-python",
   "name": "python",
   "nbconvert_exporter": "python",
   "pygments_lexer": "ipython3",
   "version": "3.8.5"
  }
 },
 "nbformat": 4,
 "nbformat_minor": 5
}
