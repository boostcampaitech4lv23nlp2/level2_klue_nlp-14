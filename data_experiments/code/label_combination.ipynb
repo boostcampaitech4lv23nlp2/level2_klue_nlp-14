{
 "cells": [
  {
   "cell_type": "code",
   "execution_count": 27,
   "id": "05355ec3-74db-463e-a2ab-2c7d96973cf0",
   "metadata": {},
   "outputs": [],
   "source": [
    "#주어진 데이터셋에서 SUB와 OBJ에 따른 조합 결과를 확인하기 위한 코드\n",
    "\n",
    "#관련된 라이브러리 임포트하기\n",
    "import pandas as pd\n",
    "from ast import literal_eval\n",
    "\n",
    "#훈련 데이터셋을 분석하고자 하니 훈련 데이터셋을 불러오기\n",
    "train_data = pd.read_csv(\"../../dataset/train/train.csv\") #추후 절대경로로 변경하거나 폴더 안으로 데이터셋을 옮겨놓을 예정"
   ]
  },
  {
   "cell_type": "code",
   "execution_count": 42,
   "id": "ff733a04-bcdd-458b-b2a5-2578842ed362",
   "metadata": {},
   "outputs": [
    {
     "name": "stdout",
     "output_type": "stream",
     "text": [
      "<class 'pandas.core.frame.DataFrame'>\n",
      "RangeIndex: 32470 entries, 0 to 32469\n",
      "Data columns (total 6 columns):\n",
      " #   Column          Non-Null Count  Dtype \n",
      "---  ------          --------------  ----- \n",
      " 0   id              32470 non-null  int64 \n",
      " 1   sentence        32470 non-null  object\n",
      " 2   subject_entity  32470 non-null  object\n",
      " 3   object_entity   32470 non-null  object\n",
      " 4   label           32470 non-null  object\n",
      " 5   source          32470 non-null  object\n",
      "dtypes: int64(1), object(5)\n",
      "memory usage: 1.5+ MB\n"
     ]
    }
   ],
   "source": [
    "train_data.info()"
   ]
  },
  {
   "cell_type": "code",
   "execution_count": 44,
   "id": "ac4fd3a5-6d81-4210-b68e-9fd998584dc7",
   "metadata": {},
   "outputs": [],
   "source": [
    "#문자열로 저장되어 있는 것을 딕셔너리로 변환하는 코드\n",
    "train_data[\"subject_entity\"] = train_data[\"subject_entity\"].apply(lambda x : literal_eval(x))\n",
    "train_data[\"object_entity\"] = train_data[\"object_entity\"].apply(lambda x : literal_eval(x))"
   ]
  },
  {
   "cell_type": "code",
   "execution_count": 51,
   "id": "6e76caa3-aae5-4068-b85a-affcca879a1c",
   "metadata": {},
   "outputs": [
    {
     "data": {
      "text/plain": [
       "{'word': '비틀즈', 'start_idx': 24, 'end_idx': 26, 'type': 'ORG'}"
      ]
     },
     "execution_count": 51,
     "metadata": {},
     "output_type": "execute_result"
    }
   ],
   "source": [
    "train_data.iloc[0][\"subject_entity\"]"
   ]
  },
  {
   "cell_type": "code",
   "execution_count": 56,
   "id": "5e4726c5-9271-4298-b3a4-d64e423ffb93",
   "metadata": {},
   "outputs": [
    {
     "data": {
      "text/plain": [
       "{'word': '조지 해리슨', 'start_idx': 13, 'end_idx': 18, 'type': 'PER'}"
      ]
     },
     "execution_count": 56,
     "metadata": {},
     "output_type": "execute_result"
    }
   ],
   "source": [
    "train_data.iloc[0][\"object_entity\"]"
   ]
  },
  {
   "cell_type": "code",
   "execution_count": 47,
   "id": "2931b319-f1ed-4a63-885f-a60f878dd7b7",
   "metadata": {},
   "outputs": [
    {
     "data": {
      "text/plain": [
       "'no_relation'"
      ]
     },
     "execution_count": 47,
     "metadata": {},
     "output_type": "execute_result"
    }
   ],
   "source": [
    "train_data.iloc[0][\"label\"]"
   ]
  },
  {
   "cell_type": "code",
   "execution_count": 50,
   "id": "5646fb5a-3194-4d47-99a4-d929d02124f0",
   "metadata": {},
   "outputs": [],
   "source": [
    "#type에 대한 정보를 다른 column으로 저장\n",
    "train_data[\"subject_type\"] = train_data[\"subject_entity\"].apply(lambda x : x[\"type\"])\n",
    "train_data[\"object_type\"] = train_data[\"object_entity\"].apply(lambda x : x[\"type\"])"
   ]
  },
  {
   "cell_type": "code",
   "execution_count": null,
   "id": "168d12b9-34b2-475c-855a-d8cd67960746",
   "metadata": {},
   "outputs": [],
   "source": []
  }
 ],
 "metadata": {
  "kernelspec": {
   "display_name": "Python 3 (ipykernel)",
   "language": "python",
   "name": "python3"
  },
  "language_info": {
   "codemirror_mode": {
    "name": "ipython",
    "version": 3
   },
   "file_extension": ".py",
   "mimetype": "text/x-python",
   "name": "python",
   "nbconvert_exporter": "python",
   "pygments_lexer": "ipython3",
   "version": "3.8.5"
  }
 },
 "nbformat": 4,
 "nbformat_minor": 5
}
