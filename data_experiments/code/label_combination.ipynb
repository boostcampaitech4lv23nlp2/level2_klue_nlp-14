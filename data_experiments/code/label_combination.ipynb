{
 "cells": [
  {
   "cell_type": "code",
   "execution_count": 1,
   "id": "05355ec3-74db-463e-a2ab-2c7d96973cf0",
   "metadata": {},
   "outputs": [],
   "source": [
    "#주어진 데이터셋에서 SUB와 OBJ에 따른 조합 결과를 확인하기 위한 코드\n",
    "\n",
    "#관련된 라이브러리 임포트하기\n",
    "import pandas as pd\n",
    "from ast import literal_eval\n",
    "import matplotlib.pyplot as plt\n",
    "\n",
    "#훈련 데이터셋을 분석하고자 하니 훈련 데이터셋을 불러오기\n",
    "train_path = \"../../../dataset/train/train.csv\"\n",
    "train_data = pd.read_csv(train_path) #추후 절대경로로 변경하거나 폴더 안으로 데이터셋을 옮겨놓을 예정"
   ]
  },
  {
   "cell_type": "code",
   "execution_count": 2,
   "id": "a38c0f12-3458-4804-bab1-1e64b6bc9f37",
   "metadata": {},
   "outputs": [],
   "source": [
    "#사용할 함수 구성\n",
    "\n",
    "#입력 받은 x를 str에서 dic으로 변환해주는 함수\n",
    "def str2dic(x):\n",
    "    if type(x) == str:\n",
    "        return literal_eval(x)\n",
    "    return x\n",
    "\n",
    "#판다스 컬럼 검색을 하는데 있어서 필요한 조건문 반환\n",
    "def make_condition(column, value):\n",
    "    return train_data[column] == value"
   ]
  },
  {
   "cell_type": "code",
   "execution_count": 3,
   "id": "ff733a04-bcdd-458b-b2a5-2578842ed362",
   "metadata": {},
   "outputs": [
    {
     "name": "stdout",
     "output_type": "stream",
     "text": [
      "<class 'pandas.core.frame.DataFrame'>\n",
      "RangeIndex: 32470 entries, 0 to 32469\n",
      "Data columns (total 6 columns):\n",
      " #   Column          Non-Null Count  Dtype \n",
      "---  ------          --------------  ----- \n",
      " 0   id              32470 non-null  int64 \n",
      " 1   sentence        32470 non-null  object\n",
      " 2   subject_entity  32470 non-null  object\n",
      " 3   object_entity   32470 non-null  object\n",
      " 4   label           32470 non-null  object\n",
      " 5   source          32470 non-null  object\n",
      "dtypes: int64(1), object(5)\n",
      "memory usage: 1.5+ MB\n"
     ]
    }
   ],
   "source": [
    "train_data.info()"
   ]
  },
  {
   "cell_type": "code",
   "execution_count": 4,
   "id": "ac4fd3a5-6d81-4210-b68e-9fd998584dc7",
   "metadata": {},
   "outputs": [],
   "source": [
    "#문자열로 저장되어 있는 것을 딕셔너리로 변환하는 코드\n",
    "train_data[\"subject_entity\"] = train_data[\"subject_entity\"].apply(lambda x : str2dic(x))\n",
    "train_data[\"object_entity\"] = train_data[\"object_entity\"].apply(lambda x : str2dic(x))"
   ]
  },
  {
   "cell_type": "code",
   "execution_count": 5,
   "id": "37261d3a-aa93-4b0f-9cbd-cd3d9e395be0",
   "metadata": {},
   "outputs": [
    {
     "data": {
      "text/plain": [
       "id                                                                0\n",
       "sentence          〈Something〉는 조지 해리슨이 쓰고 비틀즈가 1969년 앨범 《Abbey R...\n",
       "subject_entity    {'word': '비틀즈', 'start_idx': 24, 'end_idx': 26...\n",
       "object_entity     {'word': '조지 해리슨', 'start_idx': 13, 'end_idx':...\n",
       "label                                                   no_relation\n",
       "source                                                    wikipedia\n",
       "Name: 0, dtype: object"
      ]
     },
     "execution_count": 5,
     "metadata": {},
     "output_type": "execute_result"
    }
   ],
   "source": [
    "train_data.iloc[0]"
   ]
  },
  {
   "cell_type": "code",
   "execution_count": 6,
   "id": "6e76caa3-aae5-4068-b85a-affcca879a1c",
   "metadata": {},
   "outputs": [
    {
     "data": {
      "text/plain": [
       "{'word': '비틀즈', 'start_idx': 24, 'end_idx': 26, 'type': 'ORG'}"
      ]
     },
     "execution_count": 6,
     "metadata": {},
     "output_type": "execute_result"
    }
   ],
   "source": [
    "#딕셔너리로 변환된 결과 확인\n",
    "train_data.iloc[0][\"subject_entity\"]"
   ]
  },
  {
   "cell_type": "code",
   "execution_count": 7,
   "id": "5e4726c5-9271-4298-b3a4-d64e423ffb93",
   "metadata": {},
   "outputs": [
    {
     "data": {
      "text/plain": [
       "{'word': '조지 해리슨', 'start_idx': 13, 'end_idx': 18, 'type': 'PER'}"
      ]
     },
     "execution_count": 7,
     "metadata": {},
     "output_type": "execute_result"
    }
   ],
   "source": [
    "#딕셔너리로 변환된 결과 확인\n",
    "train_data.iloc[0][\"object_entity\"]"
   ]
  },
  {
   "cell_type": "code",
   "execution_count": 8,
   "id": "2931b319-f1ed-4a63-885f-a60f878dd7b7",
   "metadata": {},
   "outputs": [
    {
     "data": {
      "text/plain": [
       "'no_relation'"
      ]
     },
     "execution_count": 8,
     "metadata": {},
     "output_type": "execute_result"
    }
   ],
   "source": [
    "#딕셔너리로 변환된 결과 확인\n",
    "train_data.iloc[0][\"label\"]"
   ]
  },
  {
   "cell_type": "code",
   "execution_count": 12,
   "id": "5646fb5a-3194-4d47-99a4-d929d02124f0",
   "metadata": {},
   "outputs": [
    {
     "data": {
      "text/html": [
       "<div>\n",
       "<style scoped>\n",
       "    .dataframe tbody tr th:only-of-type {\n",
       "        vertical-align: middle;\n",
       "    }\n",
       "\n",
       "    .dataframe tbody tr th {\n",
       "        vertical-align: top;\n",
       "    }\n",
       "\n",
       "    .dataframe thead th {\n",
       "        text-align: right;\n",
       "    }\n",
       "</style>\n",
       "<table border=\"1\" class=\"dataframe\">\n",
       "  <thead>\n",
       "    <tr style=\"text-align: right;\">\n",
       "      <th></th>\n",
       "      <th>id</th>\n",
       "      <th>sentence</th>\n",
       "      <th>subject_entity</th>\n",
       "      <th>object_entity</th>\n",
       "      <th>label</th>\n",
       "      <th>source</th>\n",
       "      <th>subject_type</th>\n",
       "      <th>object_type</th>\n",
       "    </tr>\n",
       "  </thead>\n",
       "  <tbody>\n",
       "    <tr>\n",
       "      <th>0</th>\n",
       "      <td>0</td>\n",
       "      <td>〈Something〉는 조지 해리슨이 쓰고 비틀즈가 1969년 앨범 《Abbey R...</td>\n",
       "      <td>{'word': '비틀즈', 'start_idx': 24, 'end_idx': 26...</td>\n",
       "      <td>{'word': '조지 해리슨', 'start_idx': 13, 'end_idx':...</td>\n",
       "      <td>no_relation</td>\n",
       "      <td>wikipedia</td>\n",
       "      <td>ORG</td>\n",
       "      <td>PER</td>\n",
       "    </tr>\n",
       "    <tr>\n",
       "      <th>1</th>\n",
       "      <td>1</td>\n",
       "      <td>호남이 기반인 바른미래당·대안신당·민주평화당이 우여곡절 끝에 합당해 민생당(가칭)으...</td>\n",
       "      <td>{'word': '민주평화당', 'start_idx': 19, 'end_idx': ...</td>\n",
       "      <td>{'word': '대안신당', 'start_idx': 14, 'end_idx': 1...</td>\n",
       "      <td>no_relation</td>\n",
       "      <td>wikitree</td>\n",
       "      <td>ORG</td>\n",
       "      <td>ORG</td>\n",
       "    </tr>\n",
       "    <tr>\n",
       "      <th>2</th>\n",
       "      <td>2</td>\n",
       "      <td>K리그2에서 성적 1위를 달리고 있는 광주FC는 지난 26일 한국프로축구연맹으로부터...</td>\n",
       "      <td>{'word': '광주FC', 'start_idx': 21, 'end_idx': 2...</td>\n",
       "      <td>{'word': '한국프로축구연맹', 'start_idx': 34, 'end_idx...</td>\n",
       "      <td>org:member_of</td>\n",
       "      <td>wikitree</td>\n",
       "      <td>ORG</td>\n",
       "      <td>ORG</td>\n",
       "    </tr>\n",
       "    <tr>\n",
       "      <th>3</th>\n",
       "      <td>3</td>\n",
       "      <td>균일가 생활용품점 (주)아성다이소(대표 박정부)는 코로나19 바이러스로 어려움을 겪...</td>\n",
       "      <td>{'word': '아성다이소', 'start_idx': 13, 'end_idx': ...</td>\n",
       "      <td>{'word': '박정부', 'start_idx': 22, 'end_idx': 24...</td>\n",
       "      <td>org:top_members/employees</td>\n",
       "      <td>wikitree</td>\n",
       "      <td>ORG</td>\n",
       "      <td>PER</td>\n",
       "    </tr>\n",
       "    <tr>\n",
       "      <th>4</th>\n",
       "      <td>4</td>\n",
       "      <td>1967년 프로 야구 드래프트 1순위로 요미우리 자이언츠에게 입단하면서 등번호는 8...</td>\n",
       "      <td>{'word': '요미우리 자이언츠', 'start_idx': 22, 'end_id...</td>\n",
       "      <td>{'word': '1967', 'start_idx': 0, 'end_idx': 3,...</td>\n",
       "      <td>no_relation</td>\n",
       "      <td>wikipedia</td>\n",
       "      <td>ORG</td>\n",
       "      <td>DAT</td>\n",
       "    </tr>\n",
       "    <tr>\n",
       "      <th>...</th>\n",
       "      <td>...</td>\n",
       "      <td>...</td>\n",
       "      <td>...</td>\n",
       "      <td>...</td>\n",
       "      <td>...</td>\n",
       "      <td>...</td>\n",
       "      <td>...</td>\n",
       "      <td>...</td>\n",
       "    </tr>\n",
       "    <tr>\n",
       "      <th>32465</th>\n",
       "      <td>32465</td>\n",
       "      <td>한국당은 7일 오전 9시부터 오후 5시까지 진행된 원내대표 및 정책위의장 후보자 등...</td>\n",
       "      <td>{'word': '유기준', 'start_idx': 93, 'end_idx': 95...</td>\n",
       "      <td>{'word': '부산 서구·동구', 'start_idx': 100, 'end_id...</td>\n",
       "      <td>per:employee_of</td>\n",
       "      <td>wikitree</td>\n",
       "      <td>PER</td>\n",
       "      <td>LOC</td>\n",
       "    </tr>\n",
       "    <tr>\n",
       "      <th>32466</th>\n",
       "      <td>32466</td>\n",
       "      <td>법포는 다시 최시형, 서병학, 손병희 직계인 북접과 다시 서장옥, 전봉준, 김개남을...</td>\n",
       "      <td>{'word': '최시형', 'start_idx': 7, 'end_idx': 9, ...</td>\n",
       "      <td>{'word': '손병희', 'start_idx': 17, 'end_idx': 19...</td>\n",
       "      <td>per:colleagues</td>\n",
       "      <td>wikipedia</td>\n",
       "      <td>PER</td>\n",
       "      <td>PER</td>\n",
       "    </tr>\n",
       "    <tr>\n",
       "      <th>32467</th>\n",
       "      <td>32467</td>\n",
       "      <td>완도군(군수 신우철)이 국토교통부에서 실시한 '2019 교통문화지수 실태조사'에서 ...</td>\n",
       "      <td>{'word': '완도군', 'start_idx': 0, 'end_idx': 2, ...</td>\n",
       "      <td>{'word': '신우철', 'start_idx': 7, 'end_idx': 9, ...</td>\n",
       "      <td>org:top_members/employees</td>\n",
       "      <td>wikitree</td>\n",
       "      <td>ORG</td>\n",
       "      <td>PER</td>\n",
       "    </tr>\n",
       "    <tr>\n",
       "      <th>32468</th>\n",
       "      <td>32468</td>\n",
       "      <td>중앙일보, JTBC 회장을 지낸 이후 중앙홀딩스 회장, 재단법인 한반도평화만들기 이...</td>\n",
       "      <td>{'word': 'JTBC', 'start_idx': 6, 'end_idx': 9,...</td>\n",
       "      <td>{'word': '중앙홀딩스', 'start_idx': 21, 'end_idx': ...</td>\n",
       "      <td>no_relation</td>\n",
       "      <td>wikipedia</td>\n",
       "      <td>ORG</td>\n",
       "      <td>ORG</td>\n",
       "    </tr>\n",
       "    <tr>\n",
       "      <th>32469</th>\n",
       "      <td>32469</td>\n",
       "      <td>화순군(군수 구충곤)은 17일 동면의 이장 20여 명이 코로나 19 예방을 위해 버...</td>\n",
       "      <td>{'word': '화순군', 'start_idx': 0, 'end_idx': 2, ...</td>\n",
       "      <td>{'word': '구충곤', 'start_idx': 7, 'end_idx': 9, ...</td>\n",
       "      <td>org:top_members/employees</td>\n",
       "      <td>wikitree</td>\n",
       "      <td>ORG</td>\n",
       "      <td>PER</td>\n",
       "    </tr>\n",
       "  </tbody>\n",
       "</table>\n",
       "<p>32470 rows × 8 columns</p>\n",
       "</div>"
      ],
      "text/plain": [
       "          id                                           sentence  \\\n",
       "0          0  〈Something〉는 조지 해리슨이 쓰고 비틀즈가 1969년 앨범 《Abbey R...   \n",
       "1          1  호남이 기반인 바른미래당·대안신당·민주평화당이 우여곡절 끝에 합당해 민생당(가칭)으...   \n",
       "2          2  K리그2에서 성적 1위를 달리고 있는 광주FC는 지난 26일 한국프로축구연맹으로부터...   \n",
       "3          3  균일가 생활용품점 (주)아성다이소(대표 박정부)는 코로나19 바이러스로 어려움을 겪...   \n",
       "4          4  1967년 프로 야구 드래프트 1순위로 요미우리 자이언츠에게 입단하면서 등번호는 8...   \n",
       "...      ...                                                ...   \n",
       "32465  32465  한국당은 7일 오전 9시부터 오후 5시까지 진행된 원내대표 및 정책위의장 후보자 등...   \n",
       "32466  32466  법포는 다시 최시형, 서병학, 손병희 직계인 북접과 다시 서장옥, 전봉준, 김개남을...   \n",
       "32467  32467  완도군(군수 신우철)이 국토교통부에서 실시한 '2019 교통문화지수 실태조사'에서 ...   \n",
       "32468  32468  중앙일보, JTBC 회장을 지낸 이후 중앙홀딩스 회장, 재단법인 한반도평화만들기 이...   \n",
       "32469  32469  화순군(군수 구충곤)은 17일 동면의 이장 20여 명이 코로나 19 예방을 위해 버...   \n",
       "\n",
       "                                          subject_entity  \\\n",
       "0      {'word': '비틀즈', 'start_idx': 24, 'end_idx': 26...   \n",
       "1      {'word': '민주평화당', 'start_idx': 19, 'end_idx': ...   \n",
       "2      {'word': '광주FC', 'start_idx': 21, 'end_idx': 2...   \n",
       "3      {'word': '아성다이소', 'start_idx': 13, 'end_idx': ...   \n",
       "4      {'word': '요미우리 자이언츠', 'start_idx': 22, 'end_id...   \n",
       "...                                                  ...   \n",
       "32465  {'word': '유기준', 'start_idx': 93, 'end_idx': 95...   \n",
       "32466  {'word': '최시형', 'start_idx': 7, 'end_idx': 9, ...   \n",
       "32467  {'word': '완도군', 'start_idx': 0, 'end_idx': 2, ...   \n",
       "32468  {'word': 'JTBC', 'start_idx': 6, 'end_idx': 9,...   \n",
       "32469  {'word': '화순군', 'start_idx': 0, 'end_idx': 2, ...   \n",
       "\n",
       "                                           object_entity  \\\n",
       "0      {'word': '조지 해리슨', 'start_idx': 13, 'end_idx':...   \n",
       "1      {'word': '대안신당', 'start_idx': 14, 'end_idx': 1...   \n",
       "2      {'word': '한국프로축구연맹', 'start_idx': 34, 'end_idx...   \n",
       "3      {'word': '박정부', 'start_idx': 22, 'end_idx': 24...   \n",
       "4      {'word': '1967', 'start_idx': 0, 'end_idx': 3,...   \n",
       "...                                                  ...   \n",
       "32465  {'word': '부산 서구·동구', 'start_idx': 100, 'end_id...   \n",
       "32466  {'word': '손병희', 'start_idx': 17, 'end_idx': 19...   \n",
       "32467  {'word': '신우철', 'start_idx': 7, 'end_idx': 9, ...   \n",
       "32468  {'word': '중앙홀딩스', 'start_idx': 21, 'end_idx': ...   \n",
       "32469  {'word': '구충곤', 'start_idx': 7, 'end_idx': 9, ...   \n",
       "\n",
       "                           label     source subject_type object_type  \n",
       "0                    no_relation  wikipedia          ORG         PER  \n",
       "1                    no_relation   wikitree          ORG         ORG  \n",
       "2                  org:member_of   wikitree          ORG         ORG  \n",
       "3      org:top_members/employees   wikitree          ORG         PER  \n",
       "4                    no_relation  wikipedia          ORG         DAT  \n",
       "...                          ...        ...          ...         ...  \n",
       "32465            per:employee_of   wikitree          PER         LOC  \n",
       "32466             per:colleagues  wikipedia          PER         PER  \n",
       "32467  org:top_members/employees   wikitree          ORG         PER  \n",
       "32468                no_relation  wikipedia          ORG         ORG  \n",
       "32469  org:top_members/employees   wikitree          ORG         PER  \n",
       "\n",
       "[32470 rows x 8 columns]"
      ]
     },
     "execution_count": 12,
     "metadata": {},
     "output_type": "execute_result"
    }
   ],
   "source": [
    "#type에 대한 정보를 다른 column으로 저장\n",
    "train_data[\"subject_type\"] = train_data[\"subject_entity\"].apply(lambda x : x[\"type\"])\n",
    "train_data[\"object_type\"] = train_data[\"object_entity\"].apply(lambda x : x[\"type\"])\n",
    "\n",
    "#type 처리 결과를 확인\n",
    "train_data"
   ]
  },
  {
   "cell_type": "code",
   "execution_count": 11,
   "id": "c094c150-95e9-42fb-97c8-263437bee70a",
   "metadata": {},
   "outputs": [
    {
     "data": {
      "text/plain": [
       "PER    16786\n",
       "ORG    15684\n",
       "Name: subject_type, dtype: int64"
      ]
     },
     "execution_count": 11,
     "metadata": {},
     "output_type": "execute_result"
    }
   ],
   "source": [
    "#sub에 들어올 수 있는 type 종류 확인\n",
    "train_data['subject_type'].value_counts()"
   ]
  },
  {
   "cell_type": "code",
   "execution_count": 28,
   "id": "e395b3cc-108c-4c34-b870-2a1ce5dbf40e",
   "metadata": {},
   "outputs": [
    {
     "data": {
      "text/html": [
       "<div>\n",
       "<style scoped>\n",
       "    .dataframe tbody tr th:only-of-type {\n",
       "        vertical-align: middle;\n",
       "    }\n",
       "\n",
       "    .dataframe tbody tr th {\n",
       "        vertical-align: top;\n",
       "    }\n",
       "\n",
       "    .dataframe thead th {\n",
       "        text-align: right;\n",
       "    }\n",
       "</style>\n",
       "<table border=\"1\" class=\"dataframe\">\n",
       "  <thead>\n",
       "    <tr style=\"text-align: right;\">\n",
       "      <th></th>\n",
       "      <th>subject_type</th>\n",
       "      <th>object_type</th>\n",
       "      <th>label</th>\n",
       "    </tr>\n",
       "  </thead>\n",
       "  <tbody>\n",
       "    <tr>\n",
       "      <th>0</th>\n",
       "      <td>ORG</td>\n",
       "      <td>PER</td>\n",
       "      <td>no_relation</td>\n",
       "    </tr>\n",
       "    <tr>\n",
       "      <th>1</th>\n",
       "      <td>ORG</td>\n",
       "      <td>ORG</td>\n",
       "      <td>no_relation</td>\n",
       "    </tr>\n",
       "    <tr>\n",
       "      <th>2</th>\n",
       "      <td>ORG</td>\n",
       "      <td>ORG</td>\n",
       "      <td>org:member_of</td>\n",
       "    </tr>\n",
       "    <tr>\n",
       "      <th>3</th>\n",
       "      <td>ORG</td>\n",
       "      <td>PER</td>\n",
       "      <td>org:top_members/employees</td>\n",
       "    </tr>\n",
       "    <tr>\n",
       "      <th>4</th>\n",
       "      <td>ORG</td>\n",
       "      <td>DAT</td>\n",
       "      <td>no_relation</td>\n",
       "    </tr>\n",
       "    <tr>\n",
       "      <th>...</th>\n",
       "      <td>...</td>\n",
       "      <td>...</td>\n",
       "      <td>...</td>\n",
       "    </tr>\n",
       "    <tr>\n",
       "      <th>32465</th>\n",
       "      <td>PER</td>\n",
       "      <td>LOC</td>\n",
       "      <td>per:employee_of</td>\n",
       "    </tr>\n",
       "    <tr>\n",
       "      <th>32466</th>\n",
       "      <td>PER</td>\n",
       "      <td>PER</td>\n",
       "      <td>per:colleagues</td>\n",
       "    </tr>\n",
       "    <tr>\n",
       "      <th>32467</th>\n",
       "      <td>ORG</td>\n",
       "      <td>PER</td>\n",
       "      <td>org:top_members/employees</td>\n",
       "    </tr>\n",
       "    <tr>\n",
       "      <th>32468</th>\n",
       "      <td>ORG</td>\n",
       "      <td>ORG</td>\n",
       "      <td>no_relation</td>\n",
       "    </tr>\n",
       "    <tr>\n",
       "      <th>32469</th>\n",
       "      <td>ORG</td>\n",
       "      <td>PER</td>\n",
       "      <td>org:top_members/employees</td>\n",
       "    </tr>\n",
       "  </tbody>\n",
       "</table>\n",
       "<p>32470 rows × 3 columns</p>\n",
       "</div>"
      ],
      "text/plain": [
       "      subject_type object_type                      label\n",
       "0              ORG         PER                no_relation\n",
       "1              ORG         ORG                no_relation\n",
       "2              ORG         ORG              org:member_of\n",
       "3              ORG         PER  org:top_members/employees\n",
       "4              ORG         DAT                no_relation\n",
       "...            ...         ...                        ...\n",
       "32465          PER         LOC            per:employee_of\n",
       "32466          PER         PER             per:colleagues\n",
       "32467          ORG         PER  org:top_members/employees\n",
       "32468          ORG         ORG                no_relation\n",
       "32469          ORG         PER  org:top_members/employees\n",
       "\n",
       "[32470 rows x 3 columns]"
      ]
     },
     "execution_count": 28,
     "metadata": {},
     "output_type": "execute_result"
    }
   ],
   "source": [
    "#id, sentence, subject_entity, object_entity 제거하기\n",
    "train_data = train_data.drop('source', axis=1)\n",
    "\n",
    "#그래프를 쉽게 그리기 위한 train_data 컬럼 순서 변경\n",
    "train_data = train_data[[\"subject_type\", \"object_type\", \"label\"]]\n",
    "train_data"
   ]
  },
  {
   "cell_type": "code",
   "execution_count": 30,
   "id": "8db6de81-67c4-42b8-8684-4f84470b6608",
   "metadata": {},
   "outputs": [],
   "source": [
    "#데이터를 git에 올리면 안되므로 주석 처리\n",
    "train_data.to_csv(\"../data/train_data_type.csv\", index=False)"
   ]
  },
  {
   "cell_type": "code",
   "execution_count": 12,
   "id": "e283449f-24da-47d6-82ec-08ff02789407",
   "metadata": {},
   "outputs": [
    {
     "data": {
      "text/plain": [
       "PER    9788\n",
       "ORG    9346\n",
       "POH    5113\n",
       "DAT    4249\n",
       "LOC    3561\n",
       "NOH     413\n",
       "Name: object_type, dtype: int64"
      ]
     },
     "execution_count": 12,
     "metadata": {},
     "output_type": "execute_result"
    }
   ],
   "source": [
    "#obj에 들어올 수 있는 type 종류 확인\n",
    "train_data['object_type'].value_counts()"
   ]
  },
  {
   "cell_type": "code",
   "execution_count": 13,
   "id": "9e89358d-62c5-4c0a-b3d1-3f5f79e412e6",
   "metadata": {},
   "outputs": [
    {
     "data": {
      "text/plain": [
       "no_relation                            9534\n",
       "org:top_members/employees              4284\n",
       "per:employee_of                        3573\n",
       "per:title                              2103\n",
       "org:member_of                          1866\n",
       "org:alternate_names                    1320\n",
       "per:origin                             1234\n",
       "org:place_of_headquarters              1195\n",
       "per:date_of_birth                      1130\n",
       "per:alternate_names                    1001\n",
       "per:spouse                              795\n",
       "per:colleagues                          534\n",
       "per:parents                             520\n",
       "org:founded                             450\n",
       "org:members                             420\n",
       "per:date_of_death                       418\n",
       "org:product                             380\n",
       "per:children                            304\n",
       "per:place_of_residence                  193\n",
       "per:other_family                        190\n",
       "per:place_of_birth                      166\n",
       "org:founded_by                          155\n",
       "per:product                             139\n",
       "per:siblings                            136\n",
       "org:political/religious_affiliation      98\n",
       "per:religion                             96\n",
       "per:schools_attended                     82\n",
       "org:dissolved                            66\n",
       "org:number_of_employees/members          48\n",
       "per:place_of_death                       40\n",
       "Name: label, dtype: int64"
      ]
     },
     "execution_count": 13,
     "metadata": {},
     "output_type": "execute_result"
    }
   ],
   "source": [
    "#label에 들어올 수 있는 종류 확인\n",
    "train_data['label'].value_counts()"
   ]
  },
  {
   "cell_type": "code",
   "execution_count": 14,
   "id": "c3f57e92-d155-4fcb-8d77-d9e58380a38b",
   "metadata": {},
   "outputs": [],
   "source": [
    "#필터링을 위한 조건문 정리\n",
    "isPER = make_condition(\"subject_type\", \"PER\")\n",
    "isORG = make_condition(\"subject_type\", \"ORG\")"
   ]
  },
  {
   "cell_type": "code",
   "execution_count": 15,
   "id": "f9a478d0-7033-4922-9134-7994ed794c91",
   "metadata": {},
   "outputs": [
    {
     "data": {
      "text/plain": [
       "PER    5009\n",
       "ORG    4246\n",
       "POH    3454\n",
       "DAT    2139\n",
       "LOC    1785\n",
       "NOH     153\n",
       "Name: object_type, dtype: int64"
      ]
     },
     "execution_count": 15,
     "metadata": {},
     "output_type": "execute_result"
    }
   ],
   "source": [
    "#sub이 PER일때 올 수 있는 object_type의 종류\n",
    "train_data[isPER][\"object_type\"].value_counts()"
   ]
  },
  {
   "cell_type": "code",
   "execution_count": 16,
   "id": "b18e46c7-d4f7-4905-9cd1-636c72584791",
   "metadata": {},
   "outputs": [
    {
     "data": {
      "text/plain": [
       "ORG    5100\n",
       "PER    4779\n",
       "DAT    2110\n",
       "LOC    1776\n",
       "POH    1659\n",
       "NOH     260\n",
       "Name: object_type, dtype: int64"
      ]
     },
     "execution_count": 16,
     "metadata": {},
     "output_type": "execute_result"
    }
   ],
   "source": [
    "#sub이 ORG일때 올 수 있는 object_type의 종류\n",
    "train_data[isORG][\"object_type\"].value_counts()"
   ]
  },
  {
   "cell_type": "code",
   "execution_count": 17,
   "id": "4b0d77c5-0f33-4547-bd6d-5e7cc8c6c5fe",
   "metadata": {},
   "outputs": [
    {
     "name": "stdout",
     "output_type": "stream",
     "text": [
      "PER + DAT\n",
      "per:date_of_birth         1128\n",
      "no_relation                505\n",
      "per:date_of_death          410\n",
      "per:origin                  60\n",
      "per:employee_of             19\n",
      "per:parents                  5\n",
      "per:place_of_residence       4\n",
      "per:title                    3\n",
      "per:colleagues               1\n",
      "per:children                 1\n",
      "per:spouse                   1\n",
      "per:place_of_death           1\n",
      "per:place_of_birth           1\n",
      "Name: label, dtype: int64\n",
      "PER + ORG\n",
      "per:employee_of           2857\n",
      "no_relation                741\n",
      "per:origin                 267\n",
      "per:title                  141\n",
      "per:religion                80\n",
      "per:schools_attended        80\n",
      "per:alternate_names         40\n",
      "per:place_of_residence      11\n",
      "per:product                 11\n",
      "per:colleagues              10\n",
      "per:place_of_birth           3\n",
      "per:date_of_death            1\n",
      "per:other_family             1\n",
      "per:children                 1\n",
      "per:spouse                   1\n",
      "per:place_of_death           1\n",
      "Name: label, dtype: int64\n",
      "PER + LOC\n",
      "per:origin                   821\n",
      "no_relation                  310\n",
      "per:place_of_residence       172\n",
      "per:employee_of              165\n",
      "per:place_of_birth           161\n",
      "per:title                     81\n",
      "per:place_of_death            35\n",
      "per:alternate_names            9\n",
      "per:parents                    7\n",
      "per:spouse                     6\n",
      "per:other_family               4\n",
      "per:children                   3\n",
      "per:religion                   2\n",
      "per:date_of_death              2\n",
      "per:schools_attended           2\n",
      "per:product                    2\n",
      "org:founded_by                 1\n",
      "org:place_of_headquarters      1\n",
      "per:colleagues                 1\n",
      "Name: label, dtype: int64\n",
      "PER + POH\n",
      "per:title                 1845\n",
      "no_relation               1055\n",
      "per:employee_of            135\n",
      "per:product                120\n",
      "per:alternate_names         70\n",
      "per:parents                 64\n",
      "per:origin                  55\n",
      "per:spouse                  26\n",
      "per:siblings                23\n",
      "per:children                22\n",
      "per:religion                14\n",
      "per:colleagues              10\n",
      "per:other_family             7\n",
      "per:place_of_residence       6\n",
      "per:place_of_death           2\n",
      "Name: label, dtype: int64\n",
      "PER + PER\n",
      "no_relation                  1399\n",
      "per:alternate_names           881\n",
      "per:spouse                    761\n",
      "per:colleagues                512\n",
      "per:parents                   443\n",
      "per:employee_of               391\n",
      "per:children                  275\n",
      "per:other_family              178\n",
      "per:siblings                  113\n",
      "per:origin                     29\n",
      "per:title                      14\n",
      "per:product                     6\n",
      "per:date_of_death               3\n",
      "org:top_members/employees       1\n",
      "org:members                     1\n",
      "per:place_of_death              1\n",
      "per:place_of_birth              1\n",
      "Name: label, dtype: int64\n",
      "PER + NOH\n",
      "no_relation            118\n",
      "per:title               19\n",
      "per:employee_of          6\n",
      "per:children             2\n",
      "per:date_of_death        2\n",
      "per:origin               2\n",
      "per:date_of_birth        2\n",
      "per:alternate_names      1\n",
      "per:parents              1\n",
      "Name: label, dtype: int64\n"
     ]
    }
   ],
   "source": [
    "#sub이 PER일때 올 수 있는 경우의 수에 따른 label 출력\n",
    "temp_data = train_data[isPER]\n",
    "\n",
    "for i in temp_data[\"object_type\"].unique():\n",
    "    isTemp = temp_data['object_type'] == i\n",
    "    print(f\"PER + {i}\")\n",
    "    print(temp_data[isTemp][\"label\"].value_counts())"
   ]
  },
  {
   "cell_type": "code",
   "execution_count": 18,
   "id": "e2056671-d77f-43d3-85d6-3d8f874f6585",
   "metadata": {},
   "outputs": [
    {
     "name": "stdout",
     "output_type": "stream",
     "text": [
      "ORG + PER\n",
      "org:top_members/employees              4195\n",
      "no_relation                             401\n",
      "org:founded_by                          144\n",
      "org:alternate_names                      31\n",
      "org:product                               3\n",
      "org:members                               2\n",
      "org:member_of                             1\n",
      "org:political/religious_affiliation       1\n",
      "org:place_of_headquarters                 1\n",
      "Name: label, dtype: int64\n",
      "ORG + ORG\n",
      "no_relation                            1958\n",
      "org:member_of                          1320\n",
      "org:alternate_names                    1154\n",
      "org:members                             285\n",
      "org:place_of_headquarters               254\n",
      "org:political/religious_affiliation      54\n",
      "org:product                              48\n",
      "org:top_members/employees                22\n",
      "org:founded_by                            5\n",
      "Name: label, dtype: int64\n",
      "ORG + DAT\n",
      "no_relation                            1582\n",
      "org:founded                             450\n",
      "org:dissolved                            66\n",
      "org:member_of                             5\n",
      "org:place_of_headquarters                 4\n",
      "org:political/religious_affiliation       1\n",
      "org:alternate_names                       1\n",
      "org:members                               1\n",
      "Name: label, dtype: int64\n",
      "ORG + LOC\n",
      "org:place_of_headquarters              894\n",
      "no_relation                            548\n",
      "org:member_of                          173\n",
      "org:members                             97\n",
      "org:product                             24\n",
      "org:alternate_names                     23\n",
      "org:top_members/employees               13\n",
      "org:political/religious_affiliation      4\n",
      "Name: label, dtype: int64\n",
      "ORG + POH\n",
      "no_relation                            725\n",
      "org:member_of                          358\n",
      "org:product                            304\n",
      "org:alternate_names                    106\n",
      "org:top_members/employees               52\n",
      "org:place_of_headquarters               39\n",
      "org:political/religious_affiliation     38\n",
      "org:members                             32\n",
      "org:founded_by                           5\n",
      "Name: label, dtype: int64\n",
      "ORG + NOH\n",
      "no_relation                        192\n",
      "org:number_of_employees/members     48\n",
      "org:member_of                        9\n",
      "org:alternate_names                  5\n",
      "org:place_of_headquarters            2\n",
      "org:members                          2\n",
      "org:top_members/employees            1\n",
      "org:product                          1\n",
      "Name: label, dtype: int64\n"
     ]
    }
   ],
   "source": [
    "#sub이 ORG일때 올 수 있는 경우의 수에 따른 label 출력\n",
    "temp_data = train_data[isORG]\n",
    "\n",
    "for i in temp_data[\"object_type\"].unique():\n",
    "    isTemp = temp_data['object_type'] == i\n",
    "    print(f\"ORG + {i}\")\n",
    "    print(temp_data[isTemp][\"label\"].value_counts())"
   ]
  },
  {
   "cell_type": "code",
   "execution_count": 19,
   "id": "917da716-683d-4e25-b185-a03fc6406a5d",
   "metadata": {},
   "outputs": [
    {
     "data": {
      "text/html": [
       "<div>\n",
       "<style scoped>\n",
       "    .dataframe tbody tr th:only-of-type {\n",
       "        vertical-align: middle;\n",
       "    }\n",
       "\n",
       "    .dataframe tbody tr th {\n",
       "        vertical-align: top;\n",
       "    }\n",
       "\n",
       "    .dataframe thead th {\n",
       "        text-align: right;\n",
       "    }\n",
       "</style>\n",
       "<table border=\"1\" class=\"dataframe\">\n",
       "  <thead>\n",
       "    <tr style=\"text-align: right;\">\n",
       "      <th></th>\n",
       "      <th>id</th>\n",
       "      <th>sentence</th>\n",
       "      <th>subject_entity</th>\n",
       "      <th>object_entity</th>\n",
       "      <th>label</th>\n",
       "      <th>source</th>\n",
       "      <th>subject_type</th>\n",
       "      <th>object_type</th>\n",
       "    </tr>\n",
       "  </thead>\n",
       "  <tbody>\n",
       "    <tr>\n",
       "      <th>28891</th>\n",
       "      <td>28891</td>\n",
       "      <td>이렇게 싹튼 우크라이나 민족주의는 19세기 초 키예프를 중심으로 제정 러시아의 지배...</td>\n",
       "      <td>{'word': '키예프', 'start_idx': 26, 'end_idx': 28...</td>\n",
       "      <td>{'word': '우크라이나', 'start_idx': 90, 'end_idx': ...</td>\n",
       "      <td>org:place_of_headquarters</td>\n",
       "      <td>wikipedia</td>\n",
       "      <td>PER</td>\n",
       "      <td>LOC</td>\n",
       "    </tr>\n",
       "  </tbody>\n",
       "</table>\n",
       "</div>"
      ],
      "text/plain": [
       "          id                                           sentence  \\\n",
       "28891  28891  이렇게 싹튼 우크라이나 민족주의는 19세기 초 키예프를 중심으로 제정 러시아의 지배...   \n",
       "\n",
       "                                          subject_entity  \\\n",
       "28891  {'word': '키예프', 'start_idx': 26, 'end_idx': 28...   \n",
       "\n",
       "                                           object_entity  \\\n",
       "28891  {'word': '우크라이나', 'start_idx': 90, 'end_idx': ...   \n",
       "\n",
       "                           label     source subject_type object_type  \n",
       "28891  org:place_of_headquarters  wikipedia          PER         LOC  "
      ]
     },
     "execution_count": 19,
     "metadata": {},
     "output_type": "execute_result"
    }
   ],
   "source": [
    "#PER인데 label이 ORG로 나오는 경우를 확인\n",
    "train_data[isPER & make_condition(\"label\", \"org:place_of_headquarters\")]"
   ]
  },
  {
   "cell_type": "code",
   "execution_count": 32,
   "id": "091fa28f-33b9-416d-aed4-56ae2d81090d",
   "metadata": {},
   "outputs": [],
   "source": [
    "#for branch push test"
   ]
  },
  {
   "cell_type": "code",
   "execution_count": 52,
   "id": "5395e271-eba8-454c-941e-5c80d0721f51",
   "metadata": {},
   "outputs": [
    {
     "data": {
      "text/html": [
       "<div>\n",
       "<style scoped>\n",
       "    .dataframe tbody tr th:only-of-type {\n",
       "        vertical-align: middle;\n",
       "    }\n",
       "\n",
       "    .dataframe tbody tr th {\n",
       "        vertical-align: top;\n",
       "    }\n",
       "\n",
       "    .dataframe thead th {\n",
       "        text-align: right;\n",
       "    }\n",
       "</style>\n",
       "<table border=\"1\" class=\"dataframe\">\n",
       "  <thead>\n",
       "    <tr style=\"text-align: right;\">\n",
       "      <th></th>\n",
       "      <th>id</th>\n",
       "      <th>sentence</th>\n",
       "      <th>subject_entity</th>\n",
       "      <th>object_entity</th>\n",
       "      <th>label</th>\n",
       "      <th>source</th>\n",
       "      <th>subject_type</th>\n",
       "      <th>object_type</th>\n",
       "    </tr>\n",
       "  </thead>\n",
       "  <tbody>\n",
       "    <tr>\n",
       "      <th>11002</th>\n",
       "      <td>11002</td>\n",
       "      <td>한국해양대학교 제8대 도덕희 총장 취임식이 12월 2일 오후 2시 대학 대강당에서 ...</td>\n",
       "      <td>{'word': '한국해양대학교', 'start_idx': 0, 'end_idx':...</td>\n",
       "      <td>{'word': '도덕희', 'start_idx': 12, 'end_idx': 14...</td>\n",
       "      <td>org:top_members/employees</td>\n",
       "      <td>wikitree</td>\n",
       "      <td>ORG</td>\n",
       "      <td>NOH</td>\n",
       "    </tr>\n",
       "  </tbody>\n",
       "</table>\n",
       "</div>"
      ],
      "text/plain": [
       "          id                                           sentence  \\\n",
       "11002  11002  한국해양대학교 제8대 도덕희 총장 취임식이 12월 2일 오후 2시 대학 대강당에서 ...   \n",
       "\n",
       "                                          subject_entity  \\\n",
       "11002  {'word': '한국해양대학교', 'start_idx': 0, 'end_idx':...   \n",
       "\n",
       "                                           object_entity  \\\n",
       "11002  {'word': '도덕희', 'start_idx': 12, 'end_idx': 14...   \n",
       "\n",
       "                           label    source subject_type object_type  \n",
       "11002  org:top_members/employees  wikitree          ORG         NOH  "
      ]
     },
     "execution_count": 52,
     "metadata": {},
     "output_type": "execute_result"
    }
   ],
   "source": [
    "train_data[isORG & make_condition(\"object_type\", \"NOH\") & make_condition(\"label\", \"org:top_members/employees\")]"
   ]
  },
  {
   "cell_type": "code",
   "execution_count": null,
   "id": "1d6fe5c3-5af0-464e-9b11-f849e17e1c01",
   "metadata": {},
   "outputs": [],
   "source": []
  }
 ],
 "metadata": {
  "kernelspec": {
   "display_name": "Python 3 (ipykernel)",
   "language": "python",
   "name": "python3"
  },
  "language_info": {
   "codemirror_mode": {
    "name": "ipython",
    "version": 3
   },
   "file_extension": ".py",
   "mimetype": "text/x-python",
   "name": "python",
   "nbconvert_exporter": "python",
   "pygments_lexer": "ipython3",
   "version": "3.8.5"
  }
 },
 "nbformat": 4,
 "nbformat_minor": 5
}
