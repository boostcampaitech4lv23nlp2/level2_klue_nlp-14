{
 "cells": [
  {
   "cell_type": "code",
   "execution_count": 7,
   "id": "34c0ca22-229a-45cf-bddd-2b097e5125ee",
   "metadata": {},
   "outputs": [],
   "source": [
    "#데이터 분포 확인용 picle\n",
    "import pickle\n",
    "\n",
    "data = {\n",
    "    'per:religion': 0.2925,\n",
    "    'org:founded_by': 0.2559,\n",
    "    'per:place_of_death': 0.1828,\n",
    "    'per:place_of_birth': 0.1463,\n",
    "    'per:date_of_birth': 0.2194,\n",
    "    'per:date_of_death': 0.2559,\n",
    "    'per:schools_attended': 0.3291,\n",
    "    'org:dissolved': 0.1828,\n",
    "    'per:parents': 0.4753,\n",
    "    'org:member_of': 1.9744,\n",
    "    'org:political/religious_affiliation': 0.2559,\n",
    "    'org:founded': 0.4022,\n",
    "    'per:spouse': 0.7313,\n",
    "    'per:siblings': 0.4022,\n",
    "    'per:origin': 2.011,\n",
    "    'per:colleagues': 3.9488,\n",
    "    'per:other_family': 0.8044,\n",
    "    'per:alternate_names': 2.0475,\n",
    "    'per:place_of_residence': 2.0475,\n",
    "    'per:children': 0.3656,\n",
    "    'org:number_of_employees/members': 0.2194,\n",
    "    'per:product': 1.3163,\n",
    "    'org:place_of_headquarters': 3.4004,\n",
    "    'per:employee_of': 4.6069,\n",
    "    'org:alternate_names': 1.426,\n",
    "    'per:title': 13.9305,\n",
    "    'org:product': 4.1682,\n",
    "    'org:members': 2.3766,\n",
    "    'org:top_members/employees': 9.287,\n",
    "    'no_relation': 41.9379\n",
    "}\n",
    "\n",
    "# save\n",
    "with open('data_distribution.pkl', 'wb') as f:\n",
    "    pickle.dump(data, f, pickle.HIGHEST_PROTOCOL)"
   ]
  },
  {
   "cell_type": "code",
   "execution_count": 8,
   "id": "571efeee-9b1b-4d78-b741-f2e0a1d17520",
   "metadata": {},
   "outputs": [],
   "source": [
    "with open('data_distribution.pkl', 'rb') as f:\n",
    "\tdata = pickle.load(f)"
   ]
  },
  {
   "cell_type": "code",
   "execution_count": null,
   "id": "a200d163-568f-482c-b260-3d6b3ba51260",
   "metadata": {},
   "outputs": [],
   "source": [
    "data["
   ]
  }
 ],
 "metadata": {
  "kernelspec": {
   "display_name": "Python 3 (ipykernel)",
   "language": "python",
   "name": "python3"
  },
  "language_info": {
   "codemirror_mode": {
    "name": "ipython",
    "version": 3
   },
   "file_extension": ".py",
   "mimetype": "text/x-python",
   "name": "python",
   "nbconvert_exporter": "python",
   "pygments_lexer": "ipython3",
   "version": "3.8.5"
  }
 },
 "nbformat": 4,
 "nbformat_minor": 5
}
