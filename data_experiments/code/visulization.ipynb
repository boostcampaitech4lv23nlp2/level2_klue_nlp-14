{
 "cells": [
  {
   "cell_type": "code",
   "execution_count": 21,
   "id": "a1ab9e4c-04c6-48f2-aab2-5107876b32b4",
   "metadata": {},
   "outputs": [],
   "source": [
    "import pandas as pd\n",
    "import matplotlib.pyplot as plt\n",
    "\n",
    "result1_path = \"../data/sample_submission_bert_base_multilingual.csv\"\n",
    "result2_path = \"../data/sample_submission_klue-bert-base.csv\"\n",
    "test_path = \"../../../dataset/test/test_data.csv\"\n",
    "result1_data = pd.read_csv(result1_path)\n",
    "result2_data = pd.read_csv(result2_path)\n",
    "test_data = pd.read_csv(test_path)"
   ]
  },
  {
   "cell_type": "code",
   "execution_count": 22,
   "id": "c9e482af-7e9f-46d8-9cda-956ff7a2f2f9",
   "metadata": {},
   "outputs": [],
   "source": [
    "#결과를 쉽게 \n",
    "test_data[\"label1\"] = result1_data[\"pred_label\"]\n",
    "test_data[\"label2\"] = result2_data[\"pred_label\"]"
   ]
  },
  {
   "cell_type": "code",
   "execution_count": 23,
   "id": "233dfd20-e232-4839-ba43-86d1ed3aaf26",
   "metadata": {},
   "outputs": [],
   "source": [
    "test_data.to_csv(\"../data/bert_base_multilingual1.csv\", index=False)"
   ]
  },
  {
   "cell_type": "code",
   "execution_count": null,
   "id": "ff44410b-d594-4f4c-82f1-456fe7f7c99a",
   "metadata": {},
   "outputs": [],
   "source": []
  }
 ],
 "metadata": {
  "kernelspec": {
   "display_name": "Python 3 (ipykernel)",
   "language": "python",
   "name": "python3"
  },
  "language_info": {
   "codemirror_mode": {
    "name": "ipython",
    "version": 3
   },
   "file_extension": ".py",
   "mimetype": "text/x-python",
   "name": "python",
   "nbconvert_exporter": "python",
   "pygments_lexer": "ipython3",
   "version": "3.8.5"
  }
 },
 "nbformat": 4,
 "nbformat_minor": 5
}
